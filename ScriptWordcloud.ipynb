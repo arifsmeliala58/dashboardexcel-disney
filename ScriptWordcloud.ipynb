{
  "nbformat": 4,
  "nbformat_minor": 0,
  "metadata": {
    "colab": {
      "provenance": [],
      "authorship_tag": "ABX9TyMvz8Osu+Ki9di/dmbTsVGa",
      "include_colab_link": true
    },
    "kernelspec": {
      "name": "python3",
      "display_name": "Python 3"
    },
    "language_info": {
      "name": "python"
    }
  },
  "cells": [
    {
      "cell_type": "markdown",
      "metadata": {
        "id": "view-in-github",
        "colab_type": "text"
      },
      "source": [
        "<a href=\"https://colab.research.google.com/github/arifsmeliala58/dashboardexcel-disney/blob/main/ScriptWordcloud.ipynb\" target=\"_parent\"><img src=\"https://colab.research.google.com/assets/colab-badge.svg\" alt=\"Open In Colab\"/></a>"
      ]
    },
    {
      "cell_type": "code",
      "execution_count": null,
      "metadata": {
        "id": "cqiALnAGXhl7"
      },
      "outputs": [],
      "source": [
        "from nltk.tokenize import word_tokenize\n",
        "from nltk.corpus import stopwords\n",
        "import string\n",
        "import nltk\n",
        "from wordcloud import WordCloud\n",
        "\n",
        "complaint=xl(\"PIVOT_Complaint!C2:C1741\")\n",
        "\n",
        "combined=''.join(complaint[0])\n",
        "combined=combined.replace('Disney','')\n",
        "\n",
        "tokens = word_tokenize(combined.lower())\n",
        "tokens = [word for word in tokens if word.isalpha()]\n",
        "\n",
        "stop_words = set(stopwords.words('english'))\n",
        "filtered_tokens = [word for word in tokens if word not in stop_words]\n",
        "filtered_text = ' '.join(filtered_tokens)\n",
        "\n",
        "wc = WordCloud(background_color='white').generate(filtered_text)\n",
        "\n",
        "plt.imshow(wc)\n",
        "plt.axis('off')\n",
        "plt.show()"
      ]
    }
  ]
}